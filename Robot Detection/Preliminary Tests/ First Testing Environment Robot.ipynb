{
 "cells": [
  {
   "cell_type": "markdown",
   "metadata": {},
   "source": [
    "# Step 1\n",
    "**Reading in images that have a robot in them**"
   ]
  },
  {
   "cell_type": "code",
   "execution_count": 1,
   "metadata": {},
   "outputs": [],
   "source": [
    "import numpy as np\n",
    "import cv2\n",
    "from matplotlib import pyplot as plt\n",
    "import os\n",
    "from sklearn.model_selection import train_test_split\n",
    "from sklearn.neighbors import KNeighborsClassifier\n",
    "import pandas as pd\n",
    "from sklearn.metrics import accuracy_score\n",
    "from sklearn.ensemble import RandomForestClassifier"
   ]
  },
  {
   "cell_type": "code",
   "execution_count": 2,
   "metadata": {},
   "outputs": [],
   "source": [
    "positiveImages=[]\n",
    "files=os.listdir(\"positive\")\n",
    "for i in range(1,len(files)+1):\n",
    "    img=cv2.imread(\"positive//1({}).jpg\".format(i))\n",
    "    blurred=cv2.GaussianBlur(img,(7,7),1)\n",
    "    grayscale=cv2.cvtColor(blurred,cv2.COLOR_BGR2GRAY)\n",
    "    ret,threshold = cv2.threshold(grayscale,100,255,cv2.THRESH_BINARY)\n",
    "    resize=cv2.resize(threshold,(40,40))\n",
    "    reshaped=resize.reshape(-1)\n",
    "    positiveImages.append(reshaped)"
   ]
  },
  {
   "cell_type": "markdown",
   "metadata": {},
   "source": [
    "# Step 2\n",
    "**Reading in images that do not have a robot in the picture**"
   ]
  },
  {
   "cell_type": "code",
   "execution_count": 3,
   "metadata": {},
   "outputs": [],
   "source": [
    "negativeImages=[]\n",
    "files=os.listdir(\"negative\")\n",
    "for i in range(1,len(files)+1):\n",
    "    img=cv2.imread(\"negative//1({}).jpg\".format(i))\n",
    "    blurred=cv2.GaussianBlur(img,(7,7),1)\n",
    "    grayscale=cv2.cvtColor(blurred,cv2.COLOR_BGR2GRAY)\n",
    "    ret,threshold = cv2.threshold(grayscale,100,255,cv2.THRESH_BINARY)\n",
    "    resize=cv2.resize(threshold,(40,40))\n",
    "    reshaped=resize.reshape(-1)\n",
    "    negativeImages.append(reshaped)"
   ]
  },
  {
   "cell_type": "code",
   "execution_count": 4,
   "metadata": {},
   "outputs": [
    {
     "data": {
      "text/plain": [
       "<matplotlib.image.AxesImage at 0x2ac1ea07070>"
      ]
     },
     "execution_count": 4,
     "metadata": {},
     "output_type": "execute_result"
    },
    {
     "data": {
      "image/png": "[encoded data removed]",
      "text/plain": [
       "<Figure size 432x288 with 1 Axes>"
      ]
     },
     "metadata": {
      "needs_background": "light"
     },
     "output_type": "display_data"
    }
   ],
   "source": [
    "plt.imshow(positiveImages[17].reshape(40,40),cmap=\"binary\")"
   ]
  },
  {
   "cell_type": "markdown",
   "metadata": {},
   "source": [
    "# Step 3 \n",
    "**Labelling images**"
   ]
  },
  {
   "cell_type": "code",
   "execution_count": 5,
   "metadata": {},
   "outputs": [],
   "source": [
    "positive=pd.DataFrame(positiveImages)\n",
    "positive[\"y\"]=1\n",
    "negative=pd.DataFrame(negativeImages)\n",
    "negative[\"y\"]=0\n",
    "resulting=pd.concat([positive,negative])"
   ]
  },
  {
   "cell_type": "markdown",
   "metadata": {},
   "source": [
    "# Step 4\n",
    "**Split data into test and training inputs**"
   ]
  },
  {
   "cell_type": "code",
   "execution_count": 6,
   "metadata": {},
   "outputs": [],
   "source": [
    "X_train, X_test, y_train, y_test = train_test_split(resulting.drop(\"y\",axis=1),resulting.y,test_size=0.3,random_state=0)"
   ]
  },
  {
   "cell_type": "markdown",
   "metadata": {},
   "source": [
    "# Step 5\n",
    "**First trained models**"
   ]
  },
  {
   "cell_type": "code",
   "execution_count": 7,
   "metadata": {},
   "outputs": [
    {
     "data": {
      "text/plain": [
       "0.925"
      ]
     },
     "execution_count": 7,
     "metadata": {},
     "output_type": "execute_result"
    }
   ],
   "source": [
    "model = KNeighborsClassifier(n_neighbors=1).fit(X_train,y_train)\n",
    "prediction=model.predict(X_test)\n",
    "accuracy_score(prediction,y_test)"
   ]
  },
  {
   "cell_type": "code",
   "execution_count": 8,
   "metadata": {},
   "outputs": [
    {
     "data": {
      "text/plain": [
       "0.975"
      ]
     },
     "execution_count": 8,
     "metadata": {},
     "output_type": "execute_result"
    }
   ],
   "source": [
    "rf = RandomForestClassifier().fit(X_train,y_train)\n",
    "prediction=rf.predict(X_test)\n",
    "accuracy_score(prediction,y_test)"
   ]
  },
  {
   "cell_type": "markdown",
   "metadata": {},
   "source": [
    "# Step 6\n",
    "\n",
    "**Detection on video**"
   ]
  },
  {
   "cell_type": "code",
   "execution_count": 9,
   "metadata": {},
   "outputs": [],
   "source": [
    "cap = cv2.VideoCapture('ar_tag.avi')\n",
    "while(cap.isOpened()):\n",
    "    ret, frame = cap.read()\n",
    "    try:\n",
    "        height,width,dimension=frame.shape\n",
    "    except:\n",
    "        break\n",
    "    blurred=cv2.GaussianBlur(frame,(7,7),3)\n",
    "    grayscale=cv2.cvtColor(blurred,cv2.COLOR_BGR2GRAY)\n",
    "    ret,threshold = cv2.threshold(grayscale,100,255,cv2.THRESH_BINARY)\n",
    "    resize=cv2.resize(threshold,(40,40))\n",
    "    reshaped=resize.reshape(-1)\n",
    "    step=pd.DataFrame(data=[reshaped])"
   ]
  },
  {
   "cell_type": "markdown",
   "metadata": {},
   "source": [
    "# Step 7\n",
    "\n",
    "**Location on image**"
   ]
  },
  {
   "cell_type": "markdown",
   "metadata": {},
   "source": [
    "**For locating objects on images with OpenCV and machine learning one of the methods actually is to train Haar Classifiers. For this we need images, that do not contain the object and image that contain. We need to show the location, where the object is situated.**"
   ]
  }
 ],
 "metadata": {
  "kernelspec": {
   "display_name": "Python 3",
   "language": "python",
   "name": "python3"
  },
  "language_info": {
   "codemirror_mode": {
    "name": "ipython",
    "version": 3
   },
   "file_extension": ".py",
   "mimetype": "text/x-python",
   "name": "python",
   "nbconvert_exporter": "python",
   "pygments_lexer": "ipython3",
   "version": "3.8.3"
  }
 },
 "nbformat": 4,
 "nbformat_minor": 4
}
