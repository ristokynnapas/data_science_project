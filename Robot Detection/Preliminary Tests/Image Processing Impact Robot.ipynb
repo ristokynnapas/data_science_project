{
 "cells": [
  {
   "cell_type": "code",
   "execution_count": 1,
   "metadata": {},
   "outputs": [],
   "source": [
    "import numpy as np\n",
    "import cv2\n",
    "from matplotlib import pyplot as plt\n",
    "import os\n",
    "from sklearn.model_selection import train_test_split\n",
    "from sklearn.neighbors import KNeighborsClassifier\n",
    "import pandas as pd\n",
    "from sklearn.metrics import accuracy_score\n",
    "from sklearn.ensemble import RandomForestClassifier\n",
    "import time"
   ]
  },
  {
   "cell_type": "markdown",
   "metadata": {},
   "source": [
    "The video was originally split into frames in this variant using [EzGif](https://ezgif.com/video-to-jpg)"
   ]
  },
  {
   "cell_type": "markdown",
   "metadata": {},
   "source": [
    "# How much should the image be processed before classifying"
   ]
  },
  {
   "cell_type": "markdown",
   "metadata": {},
   "source": [
    "## Only grayscaled and reshaped into a 1D array"
   ]
  },
  {
   "cell_type": "code",
   "execution_count": 2,
   "metadata": {},
   "outputs": [],
   "source": [
    "positiveImages=[]\n",
    "files=os.listdir(\"positive\")\n",
    "for i in range(1,len(files)+1):\n",
    "    img=cv2.imread(\"positive//1({}).jpg\".format(i))\n",
    "    original=img.shape\n",
    "    grayscale=cv2.cvtColor(img,cv2.COLOR_BGR2GRAY)\n",
    "    reshaped=grayscale.reshape(-1)\n",
    "    positiveImages.append(reshaped)"
   ]
  },
  {
   "cell_type": "code",
   "execution_count": 3,
   "metadata": {},
   "outputs": [],
   "source": [
    "negativeImages=[]\n",
    "files=os.listdir(\"negative\")\n",
    "for i in range(1,len(files)+1):\n",
    "    img=cv2.imread(\"negative//1({}).jpg\".format(i))\n",
    "    grayscale=cv2.cvtColor(img,cv2.COLOR_BGR2GRAY)\n",
    "    reshaped=grayscale.reshape(-1)\n",
    "    negativeImages.append(reshaped)"
   ]
  },
  {
   "cell_type": "code",
   "execution_count": 4,
   "metadata": {},
   "outputs": [
    {
     "data": {
      "text/plain": [
       "<matplotlib.image.AxesImage at 0x210fbbed1c0>"
      ]
     },
     "execution_count": 4,
     "metadata": {},
     "output_type": "execute_result"
    },
    {
     "data": {
      "image/png": "[encoded data removed]",
      "text/plain": [
       "<Figure size 432x288 with 1 Axes>"
      ]
     },
     "metadata": {
      "needs_background": "light"
     },
     "output_type": "display_data"
    }
   ],
   "source": [
    "plt.imshow(positiveImages[0].reshape(original[0],original[1]),cmap=\"gray\")"
   ]
  },
  {
   "cell_type": "code",
   "execution_count": 5,
   "metadata": {},
   "outputs": [],
   "source": [
    "# positive=pd.DataFrame(positiveImages)\n",
    "# positive[\"y\"]=1\n",
    "# negative=pd.DataFrame(negativeImages)\n",
    "# negative[\"y\"]=0\n",
    "# resulting=pd.concat([positive,negative])\n",
    "# X_train, X_test, y_train, y_test = train_test_split(resulting.drop(\"y\",axis=1),resulting.y,test_size=0.3,random_state=0)"
   ]
  },
  {
   "cell_type": "markdown",
   "metadata": {},
   "source": [
    "**This does not work well enough, since there are too many data points and running this code takes too long, so a possibility is to resize the image and make it smaller.** "
   ]
  },
  {
   "cell_type": "markdown",
   "metadata": {},
   "source": [
    "**Here it is possible too see how well different sized images classify and how long it takes.**"
   ]
  },
  {
   "cell_type": "markdown",
   "metadata": {},
   "source": [
    "## Grayscale image that is resized and reshaped. The sizes, that I will test are 10 to 150 by the increment of 10."
   ]
  },
  {
   "cell_type": "markdown",
   "metadata": {},
   "source": [
    "**This time let's read in the images into arrays, so it will be easier to work with them.**"
   ]
  },
  {
   "cell_type": "code",
   "execution_count": 6,
   "metadata": {},
   "outputs": [],
   "source": [
    "positives=[]\n",
    "files=os.listdir(\"positive\")\n",
    "for i in range(1,len(files)+1):\n",
    "    img=cv2.imread(\"positive//1({}).jpg\".format(i))\n",
    "    grayscale=cv2.cvtColor(img,cv2.COLOR_BGR2GRAY)\n",
    "    positives.append(grayscale)\n",
    "negatives=[]\n",
    "files=os.listdir(\"negative\")\n",
    "for i in range(1,len(files)+1):\n",
    "    img=cv2.imread(\"negative//1({}).jpg\".format(i))\n",
    "    grayscale=cv2.cvtColor(img,cv2.COLOR_BGR2GRAY)\n",
    "    negatives.append(grayscale)"
   ]
  },
  {
   "cell_type": "code",
   "execution_count": 7,
   "metadata": {},
   "outputs": [
    {
     "name": "stdout",
     "output_type": "stream",
     "text": [
      "Grayscale Image sized: 10X10 took: 0.204 s and had an accuracy of: 0.8875 with KNN and 1.0 with Random Forest\n",
      "Grayscale Image sized: 20X20 took: 0.314 s and had an accuracy of: 0.85 with KNN and 1.0 with Random Forest\n",
      "Grayscale Image sized: 30X30 took: 0.437 s and had an accuracy of: 0.85 with KNN and 0.9875 with Random Forest\n",
      "Grayscale Image sized: 40X40 took: 0.691 s and had an accuracy of: 0.85 with KNN and 1.0 with Random Forest\n",
      "Grayscale Image sized: 50X50 took: 1.096 s and had an accuracy of: 0.85 with KNN and 1.0 with Random Forest\n",
      "Grayscale Image sized: 60X60 took: 1.361 s and had an accuracy of: 0.8375 with KNN and 0.975 with Random Forest\n",
      "Grayscale Image sized: 70X70 took: 1.912 s and had an accuracy of: 0.8375 with KNN and 0.9875 with Random Forest\n",
      "Grayscale Image sized: 80X80 took: 2.356 s and had an accuracy of: 0.85 with KNN and 1.0 with Random Forest\n",
      "Grayscale Image sized: 90X90 took: 2.949 s and had an accuracy of: 0.8375 with KNN and 1.0 with Random Forest\n",
      "Grayscale Image sized: 100X100 took: 3.126 s and had an accuracy of: 0.85 with KNN and 0.9625 with Random Forest\n",
      "Grayscale Image sized: 110X110 took: 3.751 s and had an accuracy of: 0.85 with KNN and 0.9875 with Random Forest\n",
      "Grayscale Image sized: 120X120 took: 4.579 s and had an accuracy of: 0.85 with KNN and 1.0 with Random Forest\n",
      "Grayscale Image sized: 130X130 took: 5.125 s and had an accuracy of: 0.85 with KNN and 0.975 with Random Forest\n",
      "Grayscale Image sized: 140X140 took: 5.953 s and had an accuracy of: 0.85 with KNN and 0.9875 with Random Forest\n",
      "Grayscale Image sized: 150X150 took: 7.393 s and had an accuracy of: 0.8375 with KNN and 0.9875 with Random Forest\n"
     ]
    }
   ],
   "source": [
    "for i in range(1,16):\n",
    "    start=time.time()\n",
    "    allPositive=[]\n",
    "    allNegative=[]\n",
    "    for j in positives:\n",
    "        resized=cv2.resize(j,(i*10,i*10))\n",
    "        reshaped=resized.reshape(-1)\n",
    "        allPositive.append(reshaped)\n",
    "    for j in negatives:\n",
    "        resized=cv2.resize(j,(i*10,i*10))\n",
    "        reshaped=resized.reshape(-1)\n",
    "        allNegative.append(reshaped)\n",
    "    positive=pd.DataFrame(allPositive)\n",
    "    positive[\"y\"]=1\n",
    "    negative=pd.DataFrame(allNegative)\n",
    "    negative[\"y\"]=0\n",
    "    resulting=pd.concat([positive,negative])\n",
    "    X_train, X_test, y_train, y_test = train_test_split(resulting.drop(\"y\",axis=1),resulting.y,test_size=0.3,random_state=0)\n",
    "    KNN = KNeighborsClassifier(n_neighbors=1).fit(X_train,y_train)\n",
    "    rf = RandomForestClassifier().fit(X_train,y_train)\n",
    "    predicted=rf.predict(X_test)\n",
    "    prediction=KNN.predict(X_test)\n",
    "    modelAcc=accuracy_score(prediction,y_test)\n",
    "    modelAcc2=accuracy_score(predicted,y_test)\n",
    "    end=time.time()\n",
    "    print(\"Grayscale Image sized:\",str(i*10)+\"X\"+str(i*10),\"took:\", round(end-start,3),\"s and had an accuracy of:\",modelAcc,\"with KNN and\", modelAcc2,\"with Random Forest\")"
   ]
  },
  {
   "cell_type": "markdown",
   "metadata": {},
   "source": [
    "**From this data it seems that the $10\\times 10$ Image is the most accurate and had an accuracy of 0.8875 with K-Nearest Neighbors and took the least amount of time to work, but is it possible to make it work even more accurately.**"
   ]
  },
  {
   "cell_type": "markdown",
   "metadata": {},
   "source": [
    "## One image processing method, that can be used to maybe get better accuracy is to binarize the image and see how this changes accuracy."
   ]
  },
  {
   "cell_type": "code",
   "execution_count": 8,
   "metadata": {},
   "outputs": [
    {
     "name": "stdout",
     "output_type": "stream",
     "text": [
      "Binary Image sized: 10X10 took: 0.259 s and had an accuracy of: 0.9375 with KNN and 0.975 with Random Forest\n",
      "Binary Image sized: 20X20 took: 0.259 s and had an accuracy of: 0.9125 with KNN and 1.0 with Random Forest\n",
      "Binary Image sized: 30X30 took: 0.487 s and had an accuracy of: 0.9125 with KNN and 1.0 with Random Forest\n",
      "Binary Image sized: 40X40 took: 0.62 s and had an accuracy of: 0.9375 with KNN and 0.9875 with Random Forest\n",
      "Binary Image sized: 50X50 took: 0.946 s and had an accuracy of: 0.9375 with KNN and 0.975 with Random Forest\n",
      "Binary Image sized: 60X60 took: 1.336 s and had an accuracy of: 0.95 with KNN and 0.975 with Random Forest\n",
      "Binary Image sized: 70X70 took: 1.646 s and had an accuracy of: 0.9375 with KNN and 1.0 with Random Forest\n",
      "Binary Image sized: 80X80 took: 1.972 s and had an accuracy of: 0.9375 with KNN and 0.9875 with Random Forest\n",
      "Binary Image sized: 90X90 took: 2.434 s and had an accuracy of: 0.925 with KNN and 0.9875 with Random Forest\n",
      "Binary Image sized: 100X100 took: 3.293 s and had an accuracy of: 0.95 with KNN and 0.9875 with Random Forest\n",
      "Binary Image sized: 110X110 took: 3.613 s and had an accuracy of: 0.9375 with KNN and 0.975 with Random Forest\n",
      "Binary Image sized: 120X120 took: 4.07 s and had an accuracy of: 0.925 with KNN and 0.9875 with Random Forest\n",
      "Binary Image sized: 130X130 took: 5.114 s and had an accuracy of: 0.9375 with KNN and 0.975 with Random Forest\n",
      "Binary Image sized: 140X140 took: 6.113 s and had an accuracy of: 0.925 with KNN and 1.0 with Random Forest\n",
      "Binary Image sized: 150X150 took: 6.904 s and had an accuracy of: 0.925 with KNN and 0.95 with Random Forest\n"
     ]
    }
   ],
   "source": [
    "for i in range(1,16):\n",
    "    start=time.time()\n",
    "    allPositive=[]\n",
    "    allNegative=[]\n",
    "    for j in positives:\n",
    "        ret,threshold = cv2.threshold(j,100,255,cv2.THRESH_BINARY)\n",
    "        resized=cv2.resize(threshold,(i*10,i*10))\n",
    "        reshaped=resized.reshape(-1)\n",
    "        allPositive.append(reshaped)\n",
    "    for j in negatives:\n",
    "        ret,threshold = cv2.threshold(j,100,255,cv2.THRESH_BINARY)\n",
    "        resized=cv2.resize(threshold,(i*10,i*10))\n",
    "        reshaped=resized.reshape(-1)\n",
    "        allNegative.append(reshaped)\n",
    "    positive=pd.DataFrame(allPositive)\n",
    "    positive[\"y\"]=1\n",
    "    negative=pd.DataFrame(allNegative)\n",
    "    negative[\"y\"]=0\n",
    "    resulting=pd.concat([positive,negative])\n",
    "    X_train, X_test, y_train, y_test = train_test_split(resulting.drop(\"y\",axis=1),resulting.y,test_size=0.3,random_state=0)\n",
    "    KNN = KNeighborsClassifier(n_neighbors=1).fit(X_train,y_train)\n",
    "    rf = RandomForestClassifier().fit(X_train,y_train)\n",
    "    predicted=rf.predict(X_test)\n",
    "    prediction=KNN.predict(X_test)\n",
    "    modelAcc=accuracy_score(prediction,y_test)\n",
    "    modelAcc2=accuracy_score(predicted,y_test)\n",
    "    end=time.time()\n",
    "    print(\"Binary Image sized:\",str(i*10)+\"X\"+str(i*10),\"took:\", round(end-start,3),\"s and had an accuracy of:\",modelAcc,\"with KNN and\", modelAcc2,\"with Random Forest\")"
   ]
  },
  {
   "cell_type": "markdown",
   "metadata": {},
   "source": [
    "**With this the highest accuracy is with $60\\times 60$, but this could be too slow, so maybe the ones with a bit less accuracy, but run faster could be better fit.**"
   ]
  },
  {
   "cell_type": "code",
   "execution_count": 9,
   "metadata": {},
   "outputs": [
    {
     "name": "stdout",
     "output_type": "stream",
     "text": [
      "Gaussian Blurred Binary Image sized: 10X10 took: 0.284 s and had an accuracy of: 0.9375 with KNN and 0.975 with Random Forest\n",
      "Gaussian Blurred Binary Image sized: 20X20 took: 0.319 s and had an accuracy of: 0.8875 with KNN and 1.0 with Random Forest\n",
      "Gaussian Blurred Binary Image sized: 30X30 took: 0.45 s and had an accuracy of: 0.9125 with KNN and 1.0 with Random Forest\n",
      "Gaussian Blurred Binary Image sized: 40X40 took: 0.637 s and had an accuracy of: 0.925 with KNN and 0.9875 with Random Forest\n",
      "Gaussian Blurred Binary Image sized: 50X50 took: 0.941 s and had an accuracy of: 0.925 with KNN and 1.0 with Random Forest\n",
      "Gaussian Blurred Binary Image sized: 60X60 took: 1.21 s and had an accuracy of: 0.95 with KNN and 0.9875 with Random Forest\n",
      "Gaussian Blurred Binary Image sized: 70X70 took: 1.533 s and had an accuracy of: 0.9375 with KNN and 0.975 with Random Forest\n",
      "Gaussian Blurred Binary Image sized: 80X80 took: 2.03 s and had an accuracy of: 0.9375 with KNN and 0.9875 with Random Forest\n",
      "Gaussian Blurred Binary Image sized: 90X90 took: 2.865 s and had an accuracy of: 0.925 with KNN and 1.0 with Random Forest\n",
      "Gaussian Blurred Binary Image sized: 100X100 took: 3.094 s and had an accuracy of: 0.925 with KNN and 0.9875 with Random Forest\n",
      "Gaussian Blurred Binary Image sized: 110X110 took: 4.056 s and had an accuracy of: 0.925 with KNN and 1.0 with Random Forest\n",
      "Gaussian Blurred Binary Image sized: 120X120 took: 4.464 s and had an accuracy of: 0.925 with KNN and 0.9875 with Random Forest\n",
      "Gaussian Blurred Binary Image sized: 130X130 took: 5.296 s and had an accuracy of: 0.925 with KNN and 0.9875 with Random Forest\n",
      "Gaussian Blurred Binary Image sized: 140X140 took: 6.921 s and had an accuracy of: 0.925 with KNN and 0.975 with Random Forest\n",
      "Gaussian Blurred Binary Image sized: 150X150 took: 6.712 s and had an accuracy of: 0.925 with KNN and 0.9625 with Random Forest\n"
     ]
    }
   ],
   "source": [
    "for i in range(1,16):\n",
    "    start=time.time()\n",
    "    allPositive=[]\n",
    "    allNegative=[]\n",
    "    for j in positives:\n",
    "        Gaussianed=cv2.GaussianBlur(j,(7,7),1)\n",
    "        ret,threshold = cv2.threshold(Gaussianed,100,255,cv2.THRESH_BINARY)\n",
    "        resized=cv2.resize(threshold,(i*10,i*10))\n",
    "        reshaped=resized.reshape(-1)\n",
    "        allPositive.append(reshaped)\n",
    "    for j in negatives:\n",
    "        Gaussianed=cv2.GaussianBlur(j,(7,7),1)\n",
    "        ret,threshold = cv2.threshold(Gaussianed,100,255,cv2.THRESH_BINARY)\n",
    "        resized=cv2.resize(threshold,(i*10,i*10))\n",
    "        reshaped=resized.reshape(-1)\n",
    "        allNegative.append(reshaped)\n",
    "    positive=pd.DataFrame(allPositive)\n",
    "    positive[\"y\"]=1\n",
    "    negative=pd.DataFrame(allNegative)\n",
    "    negative[\"y\"]=0\n",
    "    resulting=pd.concat([positive,negative])\n",
    "    X_train, X_test, y_train, y_test = train_test_split(resulting.drop(\"y\",axis=1),resulting.y,test_size=0.3,random_state=0)\n",
    "    KNN = KNeighborsClassifier(n_neighbors=1).fit(X_train,y_train)\n",
    "    rf = RandomForestClassifier().fit(X_train,y_train)\n",
    "    predicted=rf.predict(X_test)\n",
    "    prediction=KNN.predict(X_test)\n",
    "    modelAcc=accuracy_score(prediction,y_test)\n",
    "    modelAcc2=accuracy_score(predicted,y_test)\n",
    "    end=time.time()\n",
    "    print(\"Gaussian Blurred Binary Image sized:\",str(i*10)+\"X\"+str(i*10),\"took:\", round(end-start,3),\"s and had an accuracy of:\",modelAcc,\"with KNN and\", modelAcc2,\"with Random Forest\")"
   ]
  },
  {
   "cell_type": "markdown",
   "metadata": {},
   "source": [
    "**To try and lessen the amount of noise in the image, it is possible to use Gaussian blur.**"
   ]
  },
  {
   "cell_type": "markdown",
   "metadata": {},
   "source": [
    "## Next up, I will be testing, how only edges change the accuracy  of the models.\n",
    "\n",
    "**On this occasion edges will be detected using Canny edge detection and the detected edges will be dilated, to make them simpler to spot.**"
   ]
  },
  {
   "cell_type": "code",
   "execution_count": 10,
   "metadata": {},
   "outputs": [],
   "source": [
    "def Edges(image):\n",
    "    canned = cv2.Canny(image,50,255)\n",
    "    kernel=np.ones((5,5))\n",
    "    dilated=cv2.dilate(canned,kernel,iterations=1)\n",
    "    return dilated"
   ]
  },
  {
   "cell_type": "code",
   "execution_count": 11,
   "metadata": {},
   "outputs": [
    {
     "name": "stdout",
     "output_type": "stream",
     "text": [
      "Edge detection: 10X10 took: 0.36 s and had an accuracy of: 0.5 with KNN and 0.5 with Random Forest\n",
      "Edge detection: 20X20 took: 0.418 s and had an accuracy of: 0.5 with KNN and 0.5 with Random Forest\n",
      "Edge detection: 30X30 took: 0.679 s and had an accuracy of: 0.5 with KNN and 0.5 with Random Forest\n",
      "Edge detection: 40X40 took: 0.784 s and had an accuracy of: 0.5 with KNN and 0.5 with Random Forest\n",
      "Edge detection: 50X50 took: 1.081 s and had an accuracy of: 0.5 with KNN and 0.5 with Random Forest\n",
      "Edge detection: 60X60 took: 1.364 s and had an accuracy of: 0.5 with KNN and 0.5 with Random Forest\n",
      "Edge detection: 70X70 took: 1.807 s and had an accuracy of: 0.5 with KNN and 0.5 with Random Forest\n",
      "Edge detection: 80X80 took: 2.461 s and had an accuracy of: 0.5 with KNN and 0.5 with Random Forest\n",
      "Edge detection: 90X90 took: 2.858 s and had an accuracy of: 0.5 with KNN and 0.5 with Random Forest\n",
      "Edge detection: 100X100 took: 3.609 s and had an accuracy of: 0.5 with KNN and 0.5 with Random Forest\n",
      "Edge detection: 110X110 took: 4.345 s and had an accuracy of: 0.5 with KNN and 0.5 with Random Forest\n",
      "Edge detection: 120X120 took: 5.348 s and had an accuracy of: 0.5 with KNN and 0.5 with Random Forest\n",
      "Edge detection: 130X130 took: 5.959 s and had an accuracy of: 0.5 with KNN and 0.5 with Random Forest\n",
      "Edge detection: 140X140 took: 7.705 s and had an accuracy of: 0.5 with KNN and 0.5 with Random Forest\n",
      "Edge detection: 150X150 took: 8.087 s and had an accuracy of: 0.5 with KNN and 0.5 with Random Forest\n"
     ]
    }
   ],
   "source": [
    "for i in range(1,16):\n",
    "    start=time.time()\n",
    "    allPositive=[]\n",
    "    allNegative=[]\n",
    "    for j in positives:\n",
    "        Edgy=Edges(j)\n",
    "        resized=cv2.resize(threshold,(i*10,i*10))\n",
    "        reshaped=resized.reshape(-1)\n",
    "        allPositive.append(reshaped)\n",
    "    for j in negatives:\n",
    "        Edgy=Edges(j)\n",
    "        resized=cv2.resize(threshold,(i*10,i*10))\n",
    "        reshaped=resized.reshape(-1)\n",
    "        allNegative.append(reshaped)\n",
    "    positive=pd.DataFrame(allPositive)\n",
    "    positive[\"y\"]=1\n",
    "    negative=pd.DataFrame(allNegative)\n",
    "    negative[\"y\"]=0\n",
    "    resulting=pd.concat([positive,negative])\n",
    "    X_train, X_test, y_train, y_test = train_test_split(resulting.drop(\"y\",axis=1),resulting.y,test_size=0.3,random_state=0)\n",
    "    KNN = KNeighborsClassifier(n_neighbors=1).fit(X_train,y_train)\n",
    "    rf = RandomForestClassifier().fit(X_train,y_train)\n",
    "    predicted=rf.predict(X_test)\n",
    "    prediction=KNN.predict(X_test)\n",
    "    modelAcc=accuracy_score(prediction,y_test)\n",
    "    modelAcc2=accuracy_score(predicted,y_test)\n",
    "    end=time.time()\n",
    "    print(\"Edge detection:\",str(i*10)+\"X\"+str(i*10),\"took:\", round(end-start,3),\"s and had an accuracy of:\",modelAcc,\"with KNN and\", modelAcc2,\"with Random Forest\")"
   ]
  },
  {
   "cell_type": "markdown",
   "metadata": {},
   "source": [
    "**With the edges used the accuracy is just random guessing, this may be because only the lines are left and after shrinking the image the size of the edge becomes even smaller. One possibility is to try making the lines thicker and see if that does make a difference.**"
   ]
  },
  {
   "cell_type": "code",
   "execution_count": 12,
   "metadata": {},
   "outputs": [],
   "source": [
    "def Edges2(image,n):\n",
    "    canned = cv2.Canny(image,50,255)\n",
    "    kernel=np.ones((n,n))\n",
    "    dilated=cv2.dilate(canned,kernel,iterations=1)\n",
    "    return dilated"
   ]
  },
  {
   "cell_type": "code",
   "execution_count": 13,
   "metadata": {},
   "outputs": [],
   "source": [
    "for x in range(1,30):\n",
    "    for i in range(1,10):\n",
    "        start=time.time()\n",
    "        allPositive=[]\n",
    "        allNegative=[]\n",
    "        for j in positives:\n",
    "            Edgy=Edges2(j,x)\n",
    "            resized=cv2.resize(threshold,(i*10,i*10))\n",
    "            reshaped=resized.reshape(-1)\n",
    "            allPositive.append(reshaped)\n",
    "        for j in negatives:\n",
    "            Edgy=Edges2(j,x)\n",
    "            resized=cv2.resize(threshold,(i*10,i*10))\n",
    "            reshaped=resized.reshape(-1)\n",
    "            allNegative.append(reshaped)\n",
    "        positive=pd.DataFrame(allPositive)\n",
    "        positive[\"y\"]=1\n",
    "        negative=pd.DataFrame(allNegative)\n",
    "        negative[\"y\"]=0\n",
    "        resulting=pd.concat([positive,negative])\n",
    "        X_train, X_test, y_train, y_test = train_test_split(resulting.drop(\"y\",axis=1),resulting.y,test_size=0.3,random_state=0)\n",
    "        KNN = KNeighborsClassifier(n_neighbors=1).fit(X_train,y_train)\n",
    "        rf = RandomForestClassifier().fit(X_train,y_train)\n",
    "        predicted=rf.predict(X_test)\n",
    "        prediction=KNN.predict(X_test)\n",
    "        modelAcc=accuracy_score(prediction,y_test)\n",
    "        modelAcc2=accuracy_score(predicted,y_test)\n",
    "        end=time.time()\n",
    "        if modelAcc!=0.5:\n",
    "            print(\"Amount of dilation:\",x)\n",
    "            print(\"Edge detection:\",str(i*10)+\"X\"+str(i*10),\"took:\", round(end-start,3),\"s and had an accuracy of:\",modelAcc,\"with KNN and\", modelAcc2,\"with Random Forest\")"
   ]
  },
  {
   "cell_type": "markdown",
   "metadata": {},
   "source": [
    "From this it is possible to say, that dilation and edge detection does not aid in getting better classifiers"
   ]
  }
 ],
 "metadata": {
  "kernelspec": {
   "display_name": "Python 3",
   "language": "python",
   "name": "python3"
  },
  "language_info": {
   "codemirror_mode": {
    "name": "ipython",
    "version": 3
   },
   "file_extension": ".py",
   "mimetype": "text/x-python",
   "name": "python",
   "nbconvert_exporter": "python",
   "pygments_lexer": "ipython3",
   "version": "3.8.3"
  }
 },
 "nbformat": 4,
 "nbformat_minor": 4
}
